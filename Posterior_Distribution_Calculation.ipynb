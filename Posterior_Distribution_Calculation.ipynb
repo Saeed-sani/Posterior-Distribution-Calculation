{
  "nbformat": 4,
  "nbformat_minor": 0,
  "metadata": {
    "colab": {
      "provenance": [],
      "include_colab_link": true
    },
    "kernelspec": {
      "name": "python3",
      "display_name": "Python 3"
    },
    "language_info": {
      "name": "python"
    }
  },
  "cells": [
    {
      "cell_type": "markdown",
      "metadata": {
        "id": "view-in-github",
        "colab_type": "text"
      },
      "source": [
        "<a href=\"https://colab.research.google.com/github/Saeed-sani/Posterior-Distribution-Calculation/blob/main/Posterior_Distribution_Calculation.ipynb\" target=\"_parent\"><img src=\"https://colab.research.google.com/assets/colab-badge.svg\" alt=\"Open In Colab\"/></a>"
      ]
    },
    {
      "cell_type": "code",
      "execution_count": null,
      "metadata": {
        "id": "g-YcQgd8rHPI"
      },
      "outputs": [],
      "source": [
        "import numpy as np #Posterior Distribution Calculation\n",
        "def posterior_prob(X,P,prior):\n",
        "  likelihood=(P**np.sum(X))*((1-P)**(len(X)-np.sum(X)))\n",
        "  marginal=np.dot(prior,likelihood)\n",
        "  posterior=prior*likelihood/marginal\n",
        "  print(\"Posterior Distribution:\",posterior)"
      ]
    },
    {
      "cell_type": "code",
      "source": [
        "#Posterior Distribution Example\n",
        "X=np.array([1,0,1,0,0,1,1]) #The vector of X_i's\n",
        "P=np.array([.2,.3,.5,.8,.9]) #The vector of p_k's\n",
        "prior=np.array([.1,.2,.4,.2,.1]) #The vector of π_k's\n",
        "posterior_prob(X,P,prior)"
      ],
      "metadata": {
        "id": "9HOtucXf_941",
        "outputId": "4b1beead-5e9d-4974-bb16-2136d50fb3f9",
        "colab": {
          "base_uri": "https://localhost:8080/"
        }
      },
      "execution_count": null,
      "outputs": [
        {
          "output_type": "stream",
          "name": "stdout",
          "text": [
            "Posterior Distribution: [0.00195066 0.01937217 0.26884281 0.49131512 0.21851924]\n"
          ]
        }
      ]
    }
  ]
}
